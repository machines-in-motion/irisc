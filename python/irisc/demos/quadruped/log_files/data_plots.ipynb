{
 "cells": [
  {
   "cell_type": "code",
   "execution_count": 2,
   "id": "29ed79e8",
   "metadata": {},
   "outputs": [
    {
     "name": "stdout",
     "output_type": "stream",
     "text": [
      "The autoreload extension is already loaded. To reload it, use:\n",
      "  %reload_ext autoreload\n"
     ]
    }
   ],
   "source": [
    "%load_ext autoreload\n",
    "\n",
    "import time\n",
    "import os \n",
    "import struct\n",
    "import array\n",
    "import gc\n",
    "\n",
    "import numpy as np\n",
    "import matplotlib.pylab as plt\n",
    "\n",
    "from mim_data_utils import DataLogger, DataReader\n",
    "\n",
    "np.set_printoptions(suppress=True, precision=2)"
   ]
  },
  {
   "cell_type": "code",
   "execution_count": 6,
   "id": "9cf6a2b5",
   "metadata": {},
   "outputs": [],
   "source": [
    "abs_path = os.path.abspath(\".\")\n",
    "file_name= abs_path + \"/ddp_with_ekf_bullet_sim_2021_11_18_15_46_38\"\n",
    "reader = DataReader(file_name+'.mds')\n"
   ]
  },
  {
   "cell_type": "code",
   "execution_count": null,
   "id": "7c7a89fa",
   "metadata": {},
   "outputs": [],
   "source": []
  }
 ],
 "metadata": {
  "kernelspec": {
   "display_name": "Python 3 (ipykernel)",
   "language": "python",
   "name": "python3"
  },
  "language_info": {
   "codemirror_mode": {
    "name": "ipython",
    "version": 3
   },
   "file_extension": ".py",
   "mimetype": "text/x-python",
   "name": "python",
   "nbconvert_exporter": "python",
   "pygments_lexer": "ipython3",
   "version": "3.9.7"
  }
 },
 "nbformat": 4,
 "nbformat_minor": 5
}
