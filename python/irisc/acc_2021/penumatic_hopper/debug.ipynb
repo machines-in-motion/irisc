{
 "cells": [
  {
   "cell_type": "code",
   "execution_count": 1,
   "id": "082529cb",
   "metadata": {},
   "outputs": [],
   "source": [
    "import numpy as np \n",
    "import crocoddyl \n",
    "import matplotlib.pyplot as plt \n",
    "\n",
    "\n",
    "import os, sys\n",
    "src_path = os.path.abspath('../../') \n",
    "sys.path.append(src_path) \n",
    "\n",
    "from utils.action_models import penumatic_hopper \n",
    "from solvers import furisc\n",
    "from utils.uncertainty import measurement_models, process_models, problem_uncertainty\n",
    "from utils.problems import penumatic_hopper_problem \n",
    "from hopper_config import *"
   ]
  },
  {
   "cell_type": "code",
   "execution_count": 2,
   "id": "3bddd0cd",
   "metadata": {},
   "outputs": [],
   "source": [
    "# setup optimal control problem and solver \n",
    "horizon = 100\n",
    "# uncertainty models \n",
    "initial_covariance = 1.e-3 * np.eye(4)\n",
    "process_noise = 1.e-4*np.eye(4)\n",
    "measurement_noise = 1.e-5*np.eye(4)\n",
    "sensitivity = .1\n",
    "# MAX_ITER = 1\n",
    "\n",
    "pmodels, umodels = penumatic_hopper_problem.full_state_uniform_hopper(dt, horizon, process_noise, measurement_noise)\n",
    "\n",
    "problem = crocoddyl.ShootingProblem(x0, pmodels[:-1], pmodels[-1])\n",
    "\n",
    "irisc_uncertainty = problem_uncertainty.ProblemUncertainty(x0, initial_covariance, umodels)\n",
    "solver = furisc.FeasibilityRiskSensitiveSolver(problem, irisc_uncertainty, sensitivity)\n",
    "\n",
    "solver.setCallbacks([\n",
    "crocoddyl.CallbackLogger(),\n",
    "crocoddyl.CallbackVerbose()\n",
    "])"
   ]
  },
  {
   "cell_type": "code",
   "execution_count": 3,
   "id": "5f4daad6",
   "metadata": {},
   "outputs": [
    {
     "name": "stdout",
     "output_type": "stream",
     "text": [
      "initial cost is 1248.8765928725163\n",
      "initial trajectory feasibility True\n"
     ]
    },
    {
     "name": "stderr",
     "output_type": "stream",
     "text": [
      "/home/bilal/devel/urisc_dev/workspace/src/urisc/python/urisc/solvers/furisc.py:358: RuntimeWarning: invalid value encountered in log\n",
      "  ctry =  - self.inv_sigma*np.log(sum(costs))\n",
      "/home/bilal/devel/urisc_dev/workspace/src/urisc/python/urisc/solvers/furisc.py:358: RuntimeWarning: invalid value encountered in log\n",
      "  ctry =  - self.inv_sigma*np.log(sum(costs))\n",
      "/home/bilal/devel/urisc_dev/workspace/src/urisc/python/urisc/solvers/furisc.py:358: RuntimeWarning: divide by zero encountered in log\n",
      "  ctry =  - self.inv_sigma*np.log(sum(costs))\n",
      "/home/bilal/devel/urisc_dev/workspace/src/urisc/python/urisc/solvers/furisc.py:358: RuntimeWarning: invalid value encountered in log\n",
      "  ctry =  - self.inv_sigma*np.log(sum(costs))\n",
      "/home/bilal/devel/urisc_dev/workspace/src/urisc/python/urisc/solvers/furisc.py:358: RuntimeWarning: invalid value encountered in log\n",
      "  ctry =  - self.inv_sigma*np.log(sum(costs))\n",
      "/home/bilal/devel/urisc_dev/workspace/src/urisc/python/urisc/solvers/furisc.py:358: RuntimeWarning: invalid value encountered in log\n",
      "  ctry =  - self.inv_sigma*np.log(sum(costs))\n",
      "/home/bilal/devel/urisc_dev/workspace/src/urisc/python/urisc/solvers/furisc.py:358: RuntimeWarning: invalid value encountered in log\n",
      "  ctry =  - self.inv_sigma*np.log(sum(costs))\n",
      "/home/bilal/devel/urisc_dev/workspace/src/urisc/python/urisc/solvers/furisc.py:358: RuntimeWarning: invalid value encountered in log\n",
      "  ctry =  - self.inv_sigma*np.log(sum(costs))\n"
     ]
    },
    {
     "name": "stdout",
     "output_type": "stream",
     "text": [
      "Line search is not making any improvements\n",
      "!!!!!!!!!!!!!!!!!!!!!!!!!!!!!!!!!! uRiSC Solver Did Not Converge !!!!!!!!!!!!!!!!!!!!!!!!!!!!!!!!!!!\n"
     ]
    }
   ],
   "source": [
    "xs = [x0]*(horizon+1)\n",
    "us = [np.array([0.])]*horizon    \n",
    "# \n",
    "converged = solver.solve(xs,us, MAX_ITER, True)\n",
    "if not converged:\n",
    "    print(\" uRiSC Solver Did Not Converge \".center(LINE_WIDTH, '!'))\n",
    "else:\n",
    "    print(\" uRiSC Solver Converged \".center(LINE_WIDTH, '='))\n"
   ]
  },
  {
   "cell_type": "code",
   "execution_count": 4,
   "id": "879e4e37",
   "metadata": {},
   "outputs": [
    {
     "name": "stdout",
     "output_type": "stream",
     "text": [
      "------------------------------------- Plotting uRiSC Solution --------------------------------------\n"
     ]
    },
    {
     "data": {
      "text/plain": [
       "[<matplotlib.lines.Line2D at 0x7fa67fdf6240>]"
      ]
     },
     "execution_count": 4,
     "metadata": {},
     "output_type": "execute_result"
    },
    {
     "data": {
      "image/png": "[encoded data removed]",
      "text/plain": [
       "<Figure size 432x288 with 1 Axes>"
      ]
     },
     "metadata": {
      "needs_background": "light"
     },
     "output_type": "display_data"
    },
    {
     "data": {
      "image/png": "[encoded data removed]",
      "text/plain": [
       "<Figure size 432x288 with 1 Axes>"
      ]
     },
     "metadata": {
      "needs_background": "light"
     },
     "output_type": "display_data"
    }
   ],
   "source": [
    "print(\" Plotting uRiSC Solution \".center(LINE_WIDTH, '-'))\n",
    "time_array = dt*np.arange(horizon+1)\n",
    "#\n",
    "plt.figure(\"trajectory plot\")\n",
    "plt.plot(time_array,np.array(solver.xs)[:,0], label=\"Mass Height\")\n",
    "plt.plot(time_array,np.array(solver.xs)[:,1], label=\"Piston Height\")\n",
    "#\n",
    "plt.figure(\"control inputs\")\n",
    "plt.plot(time_array[:-1],np.array(solver.us)[:], label=\"control inputs\")"
   ]
  },
  {
   "cell_type": "code",
   "execution_count": null,
   "id": "fdceef17",
   "metadata": {},
   "outputs": [],
   "source": []
  }
 ],
 "metadata": {
  "kernelspec": {
   "display_name": "Python 3",
   "language": "python",
   "name": "python3"
  },
  "language_info": {
   "codemirror_mode": {
    "name": "ipython",
    "version": 3
   },
   "file_extension": ".py",
   "mimetype": "text/x-python",
   "name": "python",
   "nbconvert_exporter": "python",
   "pygments_lexer": "ipython3",
   "version": "3.6.9"
  }
 },
 "nbformat": 4,
 "nbformat_minor": 5
}
