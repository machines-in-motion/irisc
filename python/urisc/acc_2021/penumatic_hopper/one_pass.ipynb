{
 "cells": [
  {
   "cell_type": "code",
   "execution_count": 1,
   "id": "e2382829",
   "metadata": {},
   "outputs": [],
   "source": [
    "import numpy as np \n",
    "import crocoddyl \n",
    "import matplotlib.pyplot as plt \n",
    "#\n",
    "import os, sys\n",
    "src_path = os.path.abspath('../../') \n",
    "sys.path.append(src_path) \n",
    "#\n",
    "from utils.action_models import penumatic_hopper \n",
    "from solvers import furisc\n",
    "from utils.uncertainty import measurement_models, process_models, problem_uncertainty\n",
    "from utils.problems import penumatic_hopper_problem \n",
    "from hopper_config import *"
   ]
  },
  {
   "cell_type": "code",
   "execution_count": 2,
   "id": "cf4177ef",
   "metadata": {},
   "outputs": [],
   "source": [
    "# setup optimal control problem and solver \n",
    "# horizon = 100\n",
    "# uncertainty models \n",
    "initial_covariance = 1.e-3 * np.eye(4)\n",
    "process_noise = 1.e-4*np.eye(4)\n",
    "measurement_noise = 1.e-5*np.eye(4)\n",
    "sensitivity = -.01\n",
    "MAX_ITER = 20\n",
    "\n",
    "pmodels, umodels = penumatic_hopper_problem.full_state_uniform_hopper(dt, horizon, process_noise, measurement_noise)\n",
    "\n",
    "problem = crocoddyl.ShootingProblem(x0, pmodels[:-1], pmodels[-1])\n",
    "\n",
    "irisc_uncertainty = problem_uncertainty.ProblemUncertainty(x0, initial_covariance, umodels)\n",
    "solver = furisc.FeasibilityRiskSensitiveSolver(problem, irisc_uncertainty, sensitivity)\n",
    "\n",
    "solver.setCallbacks([\n",
    "crocoddyl.CallbackLogger(),\n",
    "crocoddyl.CallbackVerbose()\n",
    "])\n",
    "\n",
    "\n",
    "\n",
    "xs_ddp = np.load(\"solutions/ddp_xs.npy\")\n",
    "us_ddp = np.load(\"solutions/ddp_us.npy\")\n",
    "xs = [xi.copy() for xi in xs_ddp]\n",
    "us = [ui.copy() for ui in us_ddp]\n",
    "\n",
    "# xs = [x0]*(horizon+1)\n",
    "# us = [np.array([0.])]*horizon    "
   ]
  },
  {
   "cell_type": "code",
   "execution_count": null,
   "id": "7fc958b3",
   "metadata": {},
   "outputs": [
    {
     "name": "stdout",
     "output_type": "stream",
     "text": [
      "initial cost is 0.006782943337958283\n",
      "initial trajectory feasibility False\n"
     ]
    }
   ],
   "source": [
    "solver.solve(xs, us, maxiter=MAX_ITER, isFeasible=False)"
   ]
  },
  {
   "cell_type": "code",
   "execution_count": null,
   "id": "a4947b6a",
   "metadata": {},
   "outputs": [],
   "source": [
    "# # Desparate Attempt to solve this issue \n",
    "\n",
    "# solver.setCandidate(xs, us, False)\n",
    "# solver.cost = solver.unscentedCost()\n",
    "# print(\"initial cost is %s\"%solver.cost)\n",
    "# print(\"initial trajectory feasibility %s\"%solver.isFeasible)      \n",
    "# solver.n_little_improvement = 0\n",
    "# solver.x_reg = solver.regMin\n",
    "# solver.u_reg = solver.regMin\n",
    "# # computeDirection \n",
    "# solver.computeDirection(True)\n",
    "\n",
    "# xf, uf, cost = solver.unscentedForwardPass(1.)\n",
    "\n",
    "# costs = []\n",
    "# for i in range(solver.sample_size):\n",
    "#     if i == 0:\n",
    "#         costs += [solver.w0 * np.exp(-solver.sigma *np.sum(solver.sample_costs[:,i])) ]\n",
    "#     else:\n",
    "#         costs += [solver.wi * np.exp(-solver.sigma *np.sum(solver.sample_costs[:,i])) ]\n",
    "# print(sum(costs))\n",
    "\n",
    "\n",
    "\n",
    "# ctry =  - solver.inv_sigma*np.log(sum(costs))\n",
    "\n",
    "# print(\"cost try =\", ctry)\n",
    "# print(\"solver.w0 =\", solver.w0)\n",
    "# print(\"solver.wi =\",solver.wi)\n",
    "# print(\"solver.rv_dim =\",solver.rv_dim)\n",
    "# print(\"solver.sample_size =\", solver.sample_size)\n",
    "# print(\"solver.lam =\",solver.lam)"
   ]
  },
  {
   "cell_type": "code",
   "execution_count": null,
   "id": "8f2bbfce",
   "metadata": {
    "scrolled": false
   },
   "outputs": [],
   "source": [
    "solver.sample"
   ]
  },
  {
   "cell_type": "code",
   "execution_count": null,
   "id": "e9c68181",
   "metadata": {
    "scrolled": false
   },
   "outputs": [],
   "source": [
    "costs = []\n",
    "for i in range(solver.sample_size):\n",
    "    if i == 0:\n",
    "        costs += [solver.w0 * np.exp(-solver.sigma *np.sum(solver.sample_costs[:,i])) ]\n",
    "    else:\n",
    "        costs += [solver.wi * np.exp(-solver.sigma *np.sum(solver.sample_costs[:,i])) ]"
   ]
  },
  {
   "cell_type": "code",
   "execution_count": null,
   "id": "f4aa38b8",
   "metadata": {
    "scrolled": false
   },
   "outputs": [],
   "source": [
    "print(sum(costs))"
   ]
  },
  {
   "cell_type": "code",
   "execution_count": null,
   "id": "3154efd4",
   "metadata": {},
   "outputs": [],
   "source": [
    "np.log(5.529976935228933e-27)"
   ]
  },
  {
   "cell_type": "code",
   "execution_count": null,
   "id": "9799ac8e",
   "metadata": {},
   "outputs": [],
   "source": []
  },
  {
   "cell_type": "code",
   "execution_count": null,
   "id": "39a07061",
   "metadata": {},
   "outputs": [],
   "source": []
  },
  {
   "cell_type": "code",
   "execution_count": null,
   "id": "68951b3c",
   "metadata": {},
   "outputs": [],
   "source": []
  },
  {
   "cell_type": "code",
   "execution_count": null,
   "id": "6436b846",
   "metadata": {},
   "outputs": [],
   "source": []
  },
  {
   "cell_type": "code",
   "execution_count": null,
   "id": "a0948917",
   "metadata": {},
   "outputs": [],
   "source": []
  },
  {
   "cell_type": "code",
   "execution_count": null,
   "id": "ac1140a6",
   "metadata": {},
   "outputs": [],
   "source": []
  },
  {
   "cell_type": "code",
   "execution_count": null,
   "id": "3a9ae5d4",
   "metadata": {},
   "outputs": [],
   "source": []
  },
  {
   "cell_type": "code",
   "execution_count": null,
   "id": "c68c863a",
   "metadata": {},
   "outputs": [],
   "source": []
  },
  {
   "cell_type": "code",
   "execution_count": null,
   "id": "6e1843dd",
   "metadata": {},
   "outputs": [],
   "source": []
  }
 ],
 "metadata": {
  "kernelspec": {
   "display_name": "Python 3",
   "language": "python",
   "name": "python3"
  },
  "language_info": {
   "codemirror_mode": {
    "name": "ipython",
    "version": 3
   },
   "file_extension": ".py",
   "mimetype": "text/x-python",
   "name": "python",
   "nbconvert_exporter": "python",
   "pygments_lexer": "ipython3",
   "version": "3.6.9"
  }
 },
 "nbformat": 4,
 "nbformat_minor": 5
}
